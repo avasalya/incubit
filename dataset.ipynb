{
 "metadata": {
  "language_info": {
   "codemirror_mode": {
    "name": "ipython",
    "version": 3
   },
   "file_extension": ".py",
   "mimetype": "text/x-python",
   "name": "python",
   "nbconvert_exporter": "python",
   "pygments_lexer": "ipython3",
   "version": "3.6.9-final"
  },
  "orig_nbformat": 2,
  "kernelspec": {
   "name": "python3",
   "display_name": "Python 3",
   "language": "python"
  }
 },
 "nbformat": 4,
 "nbformat_minor": 2,
 "cells": [
  {
   "source": [
    "### Import necessary modules"
   ],
   "cell_type": "markdown",
   "metadata": {}
  },
  {
   "cell_type": "code",
   "execution_count": 2,
   "metadata": {},
   "outputs": [
    {
     "output_type": "stream",
     "name": "stdout",
     "text": [
      "directory path: /home/ash/Downloads/challenge\n"
     ]
    }
   ],
   "source": [
    "import os\n",
    "import cv2\n",
    "import pandas as pd\n",
    "import random as rand\n",
    "from PIL import Image\n",
    "\n",
    "from utils import*\n",
    "\n",
    "import torch as pt\n",
    "import torchvision as tv\n",
    "\n",
    "dirPath = os.path.dirname(os.path.abspath('visualization.ipynb'))\n",
    "print('directory path:', dirPath)"
   ]
  },
  {
   "source": [
    "### Get to know input Dataset"
   ],
   "cell_type": "markdown",
   "metadata": {}
  },
  {
   "cell_type": "code",
   "execution_count": 3,
   "metadata": {
    "tags": []
   },
   "outputs": [
    {
     "output_type": "stream",
     "name": "stdout",
     "text": [
      "displaying .json annotated file structure!\n  annotation_status       review_status image_display_resolution  width  \\\n0         submitted  waiting_for_review                 original   1572   \n1         submitted  waiting_for_review                 original   1572   \n2         submitted  waiting_for_review                 original   1572   \n\n   height version filename                                             labels  \n0    1728      v3  7_5.png  {'id': 375680537, 'name': 'Houses', 'type': 'b...  \n1    1728      v3  7_5.png  {'id': 264299078, 'name': 'Buildings', 'type':...  \n2    1728      v3  7_5.png  {'id': 501829700, 'name': 'Sheds/Garages', 'ty...  \n<class 'pandas.core.frame.DataFrame'>\nRangeIndex: 3 entries, 0 to 2\nData columns (total 8 columns):\n #   Column                    Non-Null Count  Dtype \n---  ------                    --------------  ----- \n 0   annotation_status         3 non-null      object\n 1   review_status             3 non-null      object\n 2   image_display_resolution  3 non-null      object\n 3   width                     3 non-null      int64 \n 4   height                    3 non-null      int64 \n 5   version                   3 non-null      object\n 6   filename                  3 non-null      object\n 7   labels                    3 non-null      object\ndtypes: int64(2), object(6)\nmemory usage: 320.0+ bytes\nNone\n"
     ]
    }
   ],
   "source": [
    "print('displaying .json annotated file structure!')\n",
    "labels = pd.read_json('data/annotations/7_5.png-annotated.json')\n",
    "print(labels.head())\n",
    "print(labels.info())\n",
    "# print(labels.head(1).labels[0]['annotations'][houses]['segmentation'])\n",
    "# print(labels.iloc[1].labels)\n",
    "# print(labels.keys())"
   ]
  },
  {
   "cell_type": "code",
   "execution_count": 4,
   "metadata": {
    "tags": []
   },
   "outputs": [
    {
     "output_type": "stream",
     "name": "stdout",
     "text": [
      "***found 73 Houses ****\n***found 111 Buildings ****\n***found 0 Sheds/Garages ****\n"
     ]
    }
   ],
   "source": [
    "\n",
    "for obj in range(len(labels.labels)):\n",
    "    print('***found {} {} ****'.format(len(labels.labels[obj]['annotations']), labels.labels[obj]['name']))\n",
    "    # for houses in range(len(labels.labels[obj]['annotations'])):\n",
    "        # print(labels.labels[obj]['annotations'][houses]['segmentation'])"
   ]
  },
  {
   "source": [
    "### import text.txt and train.txt dataset and visualize annotated segmentation mask"
   ],
   "cell_type": "markdown",
   "metadata": {}
  },
  {
   "cell_type": "code",
   "execution_count": 2,
   "metadata": {},
   "outputs": [
    {
     "output_type": "error",
     "ename": "NameError",
     "evalue": "name 'os' is not defined",
     "traceback": [
      "\u001b[0;31m---------------------------------------------------------------------------\u001b[0m",
      "\u001b[0;31mNameError\u001b[0m                                 Traceback (most recent call last)",
      "\u001b[0;32m<ipython-input-2-43b972c8bcdb>\u001b[0m in \u001b[0;36m<module>\u001b[0;34m\u001b[0m\n\u001b[1;32m      2\u001b[0m \u001b[0;34m\u001b[0m\u001b[0m\n\u001b[1;32m      3\u001b[0m \u001b[0mfiles\u001b[0m \u001b[0;34m=\u001b[0m \u001b[0;34m[\u001b[0m\u001b[0;34m]\u001b[0m\u001b[0;34m\u001b[0m\u001b[0;34m\u001b[0m\u001b[0m\n\u001b[0;32m----> 4\u001b[0;31m \u001b[0mimgPath\u001b[0m \u001b[0;34m=\u001b[0m \u001b[0mos\u001b[0m\u001b[0;34m.\u001b[0m\u001b[0mpath\u001b[0m\u001b[0;34m.\u001b[0m\u001b[0mjoin\u001b[0m\u001b[0;34m(\u001b[0m\u001b[0mdirPath\u001b[0m\u001b[0;34m,\u001b[0m \u001b[0;34m'data'\u001b[0m\u001b[0;34m,\u001b[0m \u001b[0;34m'raw'\u001b[0m\u001b[0;34m)\u001b[0m\u001b[0;34m\u001b[0m\u001b[0;34m\u001b[0m\u001b[0m\n\u001b[0m\u001b[1;32m      5\u001b[0m \u001b[0;32mwith\u001b[0m \u001b[0mopen\u001b[0m\u001b[0;34m(\u001b[0m\u001b[0mos\u001b[0m\u001b[0;34m.\u001b[0m\u001b[0mpath\u001b[0m\u001b[0;34m.\u001b[0m\u001b[0mjoin\u001b[0m\u001b[0;34m(\u001b[0m\u001b[0mdirPath\u001b[0m\u001b[0;34m,\u001b[0m \u001b[0;34m'test.txt'\u001b[0m\u001b[0;34m)\u001b[0m\u001b[0;34m,\u001b[0m \u001b[0;34m'r'\u001b[0m\u001b[0;34m)\u001b[0m \u001b[0;32mas\u001b[0m \u001b[0mf\u001b[0m\u001b[0;34m:\u001b[0m\u001b[0;34m\u001b[0m\u001b[0;34m\u001b[0m\u001b[0m\n\u001b[1;32m      6\u001b[0m     \u001b[0;32mfor\u001b[0m \u001b[0mline\u001b[0m \u001b[0;32min\u001b[0m \u001b[0mf\u001b[0m\u001b[0;34m.\u001b[0m\u001b[0mreadlines\u001b[0m\u001b[0;34m(\u001b[0m\u001b[0;34m)\u001b[0m\u001b[0;34m:\u001b[0m\u001b[0;34m\u001b[0m\u001b[0;34m\u001b[0m\u001b[0m\n",
      "\u001b[0;31mNameError\u001b[0m: name 'os' is not defined"
     ]
    }
   ],
   "source": [
    "import numpy as np\n",
    "\n",
    "files = []\n",
    "imgPath = os.path.join(dirPath, 'data', 'raw')\n",
    "with open(os.path.join(dirPath, 'test.txt'), 'r') as f:\n",
    "    for line in f.readlines():\n",
    "         files.append(str(os.path.join(imgPath, line.split('.')[0]) + '.png'))\n",
    "\n",
    "\n",
    "#visualize images\n",
    "for img in files:\n",
    "\n",
    "    #conver img into array\n",
    "    rgb = np.array(Image.open(img).convert(\"RGB\"))\n",
    "\n",
    "    # resize img\n",
    "    # rgb = rgb.resize(640, 480)\n",
    "\n",
    "    # visualize image\n",
    "    cv2.imshow('raw images', rgb)\n",
    "    key = cv2.waitKey(1000) & 0xFF\n",
    "    if key == 27:\n",
    "        print('stopped!')\n",
    "        cv2.destroyAllWindows()\n",
    "        break\n",
    "\n",
    "\n",
    "    "
   ]
  },
  {
   "cell_type": "code",
   "execution_count": null,
   "metadata": {},
   "outputs": [],
   "source": []
  }
 ]
}